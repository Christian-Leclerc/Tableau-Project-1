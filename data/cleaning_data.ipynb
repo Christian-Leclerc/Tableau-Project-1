{
 "cells": [
  {
   "cell_type": "code",
   "execution_count": 1,
   "metadata": {},
   "outputs": [],
   "source": [
    "# import\n",
    "import pandas as pd\n",
    "import numpy as np\n"
   ]
  },
  {
   "cell_type": "markdown",
   "metadata": {},
   "source": [
    "# Cleaning FAA Wildlife Strike data (2000-2015)"
   ]
  },
  {
   "cell_type": "code",
   "execution_count": 2,
   "metadata": {},
   "outputs": [
    {
     "data": {
      "text/html": [
       "<div>\n",
       "<style scoped>\n",
       "    .dataframe tbody tr th:only-of-type {\n",
       "        vertical-align: middle;\n",
       "    }\n",
       "\n",
       "    .dataframe tbody tr th {\n",
       "        vertical-align: top;\n",
       "    }\n",
       "\n",
       "    .dataframe thead th {\n",
       "        text-align: right;\n",
       "    }\n",
       "</style>\n",
       "<table border=\"1\" class=\"dataframe\">\n",
       "  <thead>\n",
       "    <tr style=\"text-align: right;\">\n",
       "      <th></th>\n",
       "      <th>Airport: Code</th>\n",
       "      <th>Airport: Name</th>\n",
       "      <th>Origin State</th>\n",
       "      <th>Origin State Code</th>\n",
       "      <th>Country</th>\n",
       "      <th>Aircraft: Type</th>\n",
       "      <th>Aircraft: Number of engines</th>\n",
       "      <th>Collision Date and Time</th>\n",
       "      <th>When: Time of day</th>\n",
       "      <th>When: Phase of flight</th>\n",
       "      <th>...</th>\n",
       "      <th>Days</th>\n",
       "      <th>Feet above ground</th>\n",
       "      <th>Miles from airport</th>\n",
       "      <th>Wildlife: Animal Category</th>\n",
       "      <th>Wildlife: Species Order</th>\n",
       "      <th>Wildlife: Species Group</th>\n",
       "      <th>Wildlife: Species</th>\n",
       "      <th>Wildlife: Species ID</th>\n",
       "      <th>Number of Strikes</th>\n",
       "      <th>Record ID</th>\n",
       "    </tr>\n",
       "  </thead>\n",
       "  <tbody>\n",
       "    <tr>\n",
       "      <th>0</th>\n",
       "      <td>KAAF</td>\n",
       "      <td>APALACHICOLA REGIONAL ARPT</td>\n",
       "      <td>Florida</td>\n",
       "      <td>FL</td>\n",
       "      <td>United States</td>\n",
       "      <td>NaN</td>\n",
       "      <td>NaN</td>\n",
       "      <td>2012-09-20 19:30:00</td>\n",
       "      <td>NaN</td>\n",
       "      <td>Take-off run</td>\n",
       "      <td>...</td>\n",
       "      <td>NaN</td>\n",
       "      <td>0.0</td>\n",
       "      <td>NaN</td>\n",
       "      <td>Terrestrial Mammals</td>\n",
       "      <td>Canids</td>\n",
       "      <td>Wolves, Dogs, Foxes, Coyote</td>\n",
       "      <td>Domestic dog</td>\n",
       "      <td>1F12</td>\n",
       "      <td>1</td>\n",
       "      <td>17459</td>\n",
       "    </tr>\n",
       "  </tbody>\n",
       "</table>\n",
       "<p>1 rows × 25 columns</p>\n",
       "</div>"
      ],
      "text/plain": [
       "  Airport: Code               Airport: Name Origin State Origin State Code  \\\n",
       "0          KAAF  APALACHICOLA REGIONAL ARPT      Florida                FL   \n",
       "\n",
       "         Country Aircraft: Type  Aircraft: Number of engines  \\\n",
       "0  United States            NaN                          NaN   \n",
       "\n",
       "  Collision Date and Time When: Time of day When: Phase of flight  ... Days  \\\n",
       "0     2012-09-20 19:30:00               NaN          Take-off run  ...  NaN   \n",
       "\n",
       "  Feet above ground Miles from airport  Wildlife: Animal Category  \\\n",
       "0               0.0                NaN        Terrestrial Mammals   \n",
       "\n",
       "   Wildlife: Species Order      Wildlife: Species Group  Wildlife: Species  \\\n",
       "0                   Canids  Wolves, Dogs, Foxes, Coyote       Domestic dog   \n",
       "\n",
       "   Wildlife: Species ID Number of Strikes Record ID  \n",
       "0                  1F12                 1     17459  \n",
       "\n",
       "[1 rows x 25 columns]"
      ]
     },
     "execution_count": 2,
     "metadata": {},
     "output_type": "execute_result"
    }
   ],
   "source": [
    "df = pd.read_excel('faa_data_subset.xlsx', sheet_name='FAA Wildlife Strikes')\n",
    "df.head(1)"
   ]
  },
  {
   "cell_type": "code",
   "execution_count": null,
   "metadata": {},
   "outputs": [],
   "source": [
    "# Fill in missing 'Aircraft: Type' as 'Other'\n",
    "df['Aircraft: Type'].fillna('Other', inplace=True)\n",
    "\n",
    "# Convert 'Collision Date and Time' to datetime format\n",
    "df['Collision Date and Time'] = pd.to_datetime(df['Collision Date and Time'])"
   ]
  },
  {
   "cell_type": "code",
   "execution_count": null,
   "metadata": {},
   "outputs": [],
   "source": [
    "# Extract hour from 'Collision Date and Time'\n",
    "df['Hour'] = df['Collision Date and Time'].dt.hour\n",
    "\n",
    "# Define a function to classify time of day\n",
    "def classify_time_of_day(hour):\n",
    "    if 5 <= hour < 6.5:\n",
    "        return 'Dawn'\n",
    "    elif 6.5 <= hour < 18.5:\n",
    "        return 'Day'\n",
    "    elif 18.5 <= hour < 20:\n",
    "        return 'Dusk'\n",
    "    else:\n",
    "        return 'Night'\n",
    "\n",
    "# Fill in missing 'When: Time of day' based on 'Hour'\n",
    "df['When: Time of day'].fillna(df['Hour'].apply(classify_time_of_day), inplace=True)\n"
   ]
  },
  {
   "cell_type": "code",
   "execution_count": null,
   "metadata": {},
   "outputs": [],
   "source": [
    "\n",
    "# Drop null values for specific columns if needed\n",
    "for col in ['Column1', 'Column2']:\n",
    "    df = df[df[col].notna()]"
   ]
  },
  {
   "cell_type": "code",
   "execution_count": null,
   "metadata": {},
   "outputs": [],
   "source": [
    "# Save cleaned data\n",
    "df.to_excel('path/to/your/cleaned/file.xlsx', index=False, sheet_name='CleanedData')"
   ]
  }
 ],
 "metadata": {
  "kernelspec": {
   "display_name": "dev_lhl",
   "language": "python",
   "name": "dev_lhl"
  },
  "language_info": {
   "codemirror_mode": {
    "name": "ipython",
    "version": 3
   },
   "file_extension": ".py",
   "mimetype": "text/x-python",
   "name": "python",
   "nbconvert_exporter": "python",
   "pygments_lexer": "ipython3",
   "version": "3.11.3"
  },
  "orig_nbformat": 4
 },
 "nbformat": 4,
 "nbformat_minor": 2
}
